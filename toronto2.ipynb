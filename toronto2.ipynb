{
 "cells": [
  {
   "cell_type": "code",
   "execution_count": 1,
   "id": "346b8495",
   "metadata": {},
   "outputs": [
    {
     "name": "stdout",
     "output_type": "stream",
     "text": [
      "Collecting geocoder\n",
      "  Downloading geocoder-1.38.1-py2.py3-none-any.whl (98 kB)\n",
      "Collecting ratelim\n",
      "  Downloading ratelim-0.1.6-py2.py3-none-any.whl (4.0 kB)\n",
      "Collecting future\n",
      "  Downloading future-0.18.2.tar.gz (829 kB)\n",
      "Requirement already satisfied: six in c:\\pyton\\lib\\site-packages (from geocoder) (1.16.0)\n",
      "Requirement already satisfied: click in c:\\pyton\\lib\\site-packages (from geocoder) (7.1.2)\n",
      "Requirement already satisfied: requests in c:\\pyton\\lib\\site-packages (from geocoder) (2.25.1)\n",
      "Requirement already satisfied: decorator in c:\\pyton\\lib\\site-packages (from ratelim->geocoder) (5.0.7)\n",
      "Requirement already satisfied: urllib3<1.27,>=1.21.1 in c:\\pyton\\lib\\site-packages (from requests->geocoder) (1.26.4)\n",
      "Requirement already satisfied: chardet<5,>=3.0.2 in c:\\pyton\\lib\\site-packages (from requests->geocoder) (4.0.0)\n",
      "Requirement already satisfied: certifi>=2017.4.17 in c:\\pyton\\lib\\site-packages (from requests->geocoder) (2020.12.5)\n",
      "Note: you may need to restart the kernel to use updated packages.\n"
     ]
    },
    {
     "name": "stderr",
     "output_type": "stream",
     "text": [
      "WARNING: You are using pip version 20.2.3; however, version 21.2.2 is available.\n",
      "You should consider upgrading via the 'c:\\pyton\\python.exe -m pip install --upgrade pip' command.\n"
     ]
    },
    {
     "name": "stdout",
     "output_type": "stream",
     "text": [
      "Requirement already satisfied: idna<3,>=2.5 in c:\\pyton\\lib\\site-packages (from requests->geocoder) (2.10)\n",
      "Using legacy 'setup.py install' for future, since package 'wheel' is not installed.\n",
      "Installing collected packages: ratelim, future, geocoder\n",
      "    Running setup.py install for future: started\n",
      "    Running setup.py install for future: finished with status 'done'\n",
      "Successfully installed future-0.18.2 geocoder-1.38.1 ratelim-0.1.6\n"
     ]
    }
   ],
   "source": [
    "pip install geocoder"
   ]
  },
  {
   "cell_type": "code",
   "execution_count": 2,
   "id": "4c19860f",
   "metadata": {},
   "outputs": [
    {
     "name": "stdout",
     "output_type": "stream",
     "text": [
      "Imported!\n"
     ]
    }
   ],
   "source": [
    "import pandas as pd\n",
    "import numpy as np\n",
    "import geocoder\n",
    "print(\"Imported!\")"
   ]
  },
  {
   "cell_type": "code",
   "execution_count": 3,
   "id": "cc21f330",
   "metadata": {},
   "outputs": [
    {
     "data": {
      "text/html": [
       "<div>\n",
       "<style scoped>\n",
       "    .dataframe tbody tr th:only-of-type {\n",
       "        vertical-align: middle;\n",
       "    }\n",
       "\n",
       "    .dataframe tbody tr th {\n",
       "        vertical-align: top;\n",
       "    }\n",
       "\n",
       "    .dataframe thead th {\n",
       "        text-align: right;\n",
       "    }\n",
       "</style>\n",
       "<table border=\"1\" class=\"dataframe\">\n",
       "  <thead>\n",
       "    <tr style=\"text-align: right;\">\n",
       "      <th></th>\n",
       "      <th>Postalcode</th>\n",
       "      <th>Borough</th>\n",
       "      <th>Neighborhood</th>\n",
       "    </tr>\n",
       "  </thead>\n",
       "  <tbody>\n",
       "    <tr>\n",
       "      <th>0</th>\n",
       "      <td>\\nM1ANot assigned\\n\\n</td>\n",
       "      <td>\\nM2ANot assigned\\n\\n</td>\n",
       "      <td>M9AEtobicoke(Islington Avenue)</td>\n",
       "    </tr>\n",
       "    <tr>\n",
       "      <th>1</th>\n",
       "      <td>\\nM1BScarborough(Malvern / Rouge)\\n\\n</td>\n",
       "      <td>\\nM2BNot assigned\\n\\n</td>\n",
       "      <td>M9BEtobicoke(West Deane Park / Princess Garden...</td>\n",
       "    </tr>\n",
       "    <tr>\n",
       "      <th>2</th>\n",
       "      <td>\\nM1CScarborough(Rouge Hill / Port Union / Hig...</td>\n",
       "      <td>\\nM2CNot assigned\\n\\n</td>\n",
       "      <td>M9CEtobicoke(Eringate / Bloordale Gardens / Ol...</td>\n",
       "    </tr>\n",
       "    <tr>\n",
       "      <th>3</th>\n",
       "      <td>\\nM1EScarborough(Guildwood / Morningside / Wes...</td>\n",
       "      <td>\\nM2ENot assigned\\n\\n</td>\n",
       "      <td>M9ENot assigned</td>\n",
       "    </tr>\n",
       "    <tr>\n",
       "      <th>4</th>\n",
       "      <td>\\nM1GScarborough(Woburn)\\n\\n</td>\n",
       "      <td>\\nM2GNot assigned\\n\\n</td>\n",
       "      <td>M9GNot assigned</td>\n",
       "    </tr>\n",
       "  </tbody>\n",
       "</table>\n",
       "</div>"
      ],
      "text/plain": [
       "                                          Postalcode                Borough  \\\n",
       "0                              \\nM1ANot assigned\\n\\n  \\nM2ANot assigned\\n\\n   \n",
       "1              \\nM1BScarborough(Malvern / Rouge)\\n\\n  \\nM2BNot assigned\\n\\n   \n",
       "2  \\nM1CScarborough(Rouge Hill / Port Union / Hig...  \\nM2CNot assigned\\n\\n   \n",
       "3  \\nM1EScarborough(Guildwood / Morningside / Wes...  \\nM2ENot assigned\\n\\n   \n",
       "4                       \\nM1GScarborough(Woburn)\\n\\n  \\nM2GNot assigned\\n\\n   \n",
       "\n",
       "                                        Neighborhood  \n",
       "0                     M9AEtobicoke(Islington Avenue)  \n",
       "1  M9BEtobicoke(West Deane Park / Princess Garden...  \n",
       "2  M9CEtobicoke(Eringate / Bloordale Gardens / Ol...  \n",
       "3                                    M9ENot assigned  \n",
       "4                                    M9GNot assigned  "
      ]
     },
     "execution_count": 3,
     "metadata": {},
     "output_type": "execute_result"
    }
   ],
   "source": [
    "df= pd.read_csv('toronto.csv')\n",
    "df.head()"
   ]
  },
  {
   "cell_type": "code",
   "execution_count": 4,
   "id": "93d0809b",
   "metadata": {},
   "outputs": [
    {
     "name": "stdout",
     "output_type": "stream",
     "text": [
      "(20, 3)\n"
     ]
    },
    {
     "data": {
      "text/html": [
       "<div>\n",
       "<style scoped>\n",
       "    .dataframe tbody tr th:only-of-type {\n",
       "        vertical-align: middle;\n",
       "    }\n",
       "\n",
       "    .dataframe tbody tr th {\n",
       "        vertical-align: top;\n",
       "    }\n",
       "\n",
       "    .dataframe thead th {\n",
       "        text-align: right;\n",
       "    }\n",
       "</style>\n",
       "<table border=\"1\" class=\"dataframe\">\n",
       "  <thead>\n",
       "    <tr style=\"text-align: right;\">\n",
       "      <th></th>\n",
       "      <th>Postalcode</th>\n",
       "      <th>Borough</th>\n",
       "      <th>Neighborhood</th>\n",
       "    </tr>\n",
       "  </thead>\n",
       "  <tbody>\n",
       "    <tr>\n",
       "      <th>count</th>\n",
       "      <td>20</td>\n",
       "      <td>20</td>\n",
       "      <td>20</td>\n",
       "    </tr>\n",
       "    <tr>\n",
       "      <th>unique</th>\n",
       "      <td>20</td>\n",
       "      <td>20</td>\n",
       "      <td>20</td>\n",
       "    </tr>\n",
       "    <tr>\n",
       "      <th>top</th>\n",
       "      <td>\\nM1ZNot assigned\\n\\n</td>\n",
       "      <td>\\nM2GNot assigned\\n\\n</td>\n",
       "      <td>M9BEtobicoke(West Deane Park / Princess Garden...</td>\n",
       "    </tr>\n",
       "    <tr>\n",
       "      <th>freq</th>\n",
       "      <td>1</td>\n",
       "      <td>1</td>\n",
       "      <td>1</td>\n",
       "    </tr>\n",
       "  </tbody>\n",
       "</table>\n",
       "</div>"
      ],
      "text/plain": [
       "                   Postalcode                Borough  \\\n",
       "count                      20                     20   \n",
       "unique                     20                     20   \n",
       "top     \\nM1ZNot assigned\\n\\n  \\nM2GNot assigned\\n\\n   \n",
       "freq                        1                      1   \n",
       "\n",
       "                                             Neighborhood  \n",
       "count                                                  20  \n",
       "unique                                                 20  \n",
       "top     M9BEtobicoke(West Deane Park / Princess Garden...  \n",
       "freq                                                    1  "
      ]
     },
     "execution_count": 4,
     "metadata": {},
     "output_type": "execute_result"
    }
   ],
   "source": [
    "print(df.shape)\n",
    "df.describe()"
   ]
  },
  {
   "cell_type": "code",
   "execution_count": 6,
   "id": "fa04846a",
   "metadata": {},
   "outputs": [
    {
     "data": {
      "text/plain": [
       "[43.709020000000066, -79.36348999999996]"
      ]
     },
     "execution_count": 6,
     "metadata": {},
     "output_type": "execute_result"
    }
   ],
   "source": [
    "def get_latilong(postal_code):\n",
    "    lati_long_coords= None\n",
    "    while (lati_long_coords is None):\n",
    "        g= geocoder.arcgis('{}, Toronto,Ontario'.format(postal_code))\n",
    "        lati_long_coords=g.latlng\n",
    "    return lati_long_coords\n",
    "\n",
    "get_latilong('M4G')"
   ]
  },
  {
   "cell_type": "code",
   "execution_count": 7,
   "id": "2b5fcffa",
   "metadata": {},
   "outputs": [],
   "source": [
    "postal_codes=df['Postalcode']\n",
    "coords= [get_latilong(postal_code) for postal_code in postal_codes.tolist()]"
   ]
  },
  {
   "cell_type": "code",
   "execution_count": 8,
   "id": "74d8118e",
   "metadata": {},
   "outputs": [],
   "source": [
    "df_coords=pd.DataFrame(coords,columns=['Latitude','Longitude'])\n",
    "df['Latitude']= df_coords['Latitude']\n",
    "df['Longitude']=df_coords['Longitude']"
   ]
  },
  {
   "cell_type": "code",
   "execution_count": 10,
   "id": "711f2f2b",
   "metadata": {},
   "outputs": [
    {
     "data": {
      "text/html": [
       "<div>\n",
       "<style scoped>\n",
       "    .dataframe tbody tr th:only-of-type {\n",
       "        vertical-align: middle;\n",
       "    }\n",
       "\n",
       "    .dataframe tbody tr th {\n",
       "        vertical-align: top;\n",
       "    }\n",
       "\n",
       "    .dataframe thead th {\n",
       "        text-align: right;\n",
       "    }\n",
       "</style>\n",
       "<table border=\"1\" class=\"dataframe\">\n",
       "  <thead>\n",
       "    <tr style=\"text-align: right;\">\n",
       "      <th></th>\n",
       "      <th>Postalcode</th>\n",
       "      <th>Borough</th>\n",
       "      <th>Neighborhood</th>\n",
       "      <th>Latitude</th>\n",
       "      <th>Longitude</th>\n",
       "    </tr>\n",
       "  </thead>\n",
       "  <tbody>\n",
       "  </tbody>\n",
       "</table>\n",
       "</div>"
      ],
      "text/plain": [
       "Empty DataFrame\n",
       "Columns: [Postalcode, Borough, Neighborhood, Latitude, Longitude]\n",
       "Index: []"
      ]
     },
     "execution_count": 10,
     "metadata": {},
     "output_type": "execute_result"
    }
   ],
   "source": [
    "df[df.Postalcode=='M5G']"
   ]
  },
  {
   "cell_type": "code",
   "execution_count": 11,
   "id": "42b93223",
   "metadata": {},
   "outputs": [
    {
     "data": {
      "text/html": [
       "<div>\n",
       "<style scoped>\n",
       "    .dataframe tbody tr th:only-of-type {\n",
       "        vertical-align: middle;\n",
       "    }\n",
       "\n",
       "    .dataframe tbody tr th {\n",
       "        vertical-align: top;\n",
       "    }\n",
       "\n",
       "    .dataframe thead th {\n",
       "        text-align: right;\n",
       "    }\n",
       "</style>\n",
       "<table border=\"1\" class=\"dataframe\">\n",
       "  <thead>\n",
       "    <tr style=\"text-align: right;\">\n",
       "      <th></th>\n",
       "      <th>Postalcode</th>\n",
       "      <th>Borough</th>\n",
       "      <th>Neighborhood</th>\n",
       "      <th>Latitude</th>\n",
       "      <th>Longitude</th>\n",
       "    </tr>\n",
       "  </thead>\n",
       "  <tbody>\n",
       "    <tr>\n",
       "      <th>0</th>\n",
       "      <td>\\nM1ANot assigned\\n\\n</td>\n",
       "      <td>\\nM2ANot assigned\\n\\n</td>\n",
       "      <td>M9AEtobicoke(Islington Avenue)</td>\n",
       "      <td>43.648690</td>\n",
       "      <td>-79.385440</td>\n",
       "    </tr>\n",
       "    <tr>\n",
       "      <th>1</th>\n",
       "      <td>\\nM1BScarborough(Malvern / Rouge)\\n\\n</td>\n",
       "      <td>\\nM2BNot assigned\\n\\n</td>\n",
       "      <td>M9BEtobicoke(West Deane Park / Princess Garden...</td>\n",
       "      <td>43.810230</td>\n",
       "      <td>-79.220380</td>\n",
       "    </tr>\n",
       "    <tr>\n",
       "      <th>2</th>\n",
       "      <td>\\nM1CScarborough(Rouge Hill / Port Union / Hig...</td>\n",
       "      <td>\\nM2CNot assigned\\n\\n</td>\n",
       "      <td>M9CEtobicoke(Eringate / Bloordale Gardens / Ol...</td>\n",
       "      <td>43.789480</td>\n",
       "      <td>-79.176140</td>\n",
       "    </tr>\n",
       "    <tr>\n",
       "      <th>3</th>\n",
       "      <td>\\nM1EScarborough(Guildwood / Morningside / Wes...</td>\n",
       "      <td>\\nM2ENot assigned\\n\\n</td>\n",
       "      <td>M9ENot assigned</td>\n",
       "      <td>43.763430</td>\n",
       "      <td>-79.178200</td>\n",
       "    </tr>\n",
       "    <tr>\n",
       "      <th>4</th>\n",
       "      <td>\\nM1GScarborough(Woburn)\\n\\n</td>\n",
       "      <td>\\nM2GNot assigned\\n\\n</td>\n",
       "      <td>M9GNot assigned</td>\n",
       "      <td>43.767480</td>\n",
       "      <td>-79.228290</td>\n",
       "    </tr>\n",
       "    <tr>\n",
       "      <th>5</th>\n",
       "      <td>\\nM1HScarborough(Cedarbrae)\\n\\n</td>\n",
       "      <td>\\nM2HNorth York(Hillcrest Village)\\n\\n</td>\n",
       "      <td>M9HNot assigned</td>\n",
       "      <td>43.741672</td>\n",
       "      <td>-79.232538</td>\n",
       "    </tr>\n",
       "    <tr>\n",
       "      <th>6</th>\n",
       "      <td>\\nM1JScarborough(Scarborough Village)\\n\\n</td>\n",
       "      <td>\\nM2JNorth York(Fairview / Henry Farm / Oriole...</td>\n",
       "      <td>M9JNot assigned</td>\n",
       "      <td>43.738650</td>\n",
       "      <td>-79.216990</td>\n",
       "    </tr>\n",
       "    <tr>\n",
       "      <th>7</th>\n",
       "      <td>\\nM1KScarborough(Kennedy Park / Ionview / East...</td>\n",
       "      <td>\\nM2KNorth York(Bayview Village)\\n\\n</td>\n",
       "      <td>M9KNot assigned</td>\n",
       "      <td>43.648690</td>\n",
       "      <td>-79.385440</td>\n",
       "    </tr>\n",
       "    <tr>\n",
       "      <th>8</th>\n",
       "      <td>\\nM1LScarborough(Golden Mile / Clairlea / Oakr...</td>\n",
       "      <td>\\nM2LNorth York(York Mills / Silver Hills)\\n\\n</td>\n",
       "      <td>M9LNorth York(Humber Summit)</td>\n",
       "      <td>43.698830</td>\n",
       "      <td>-79.279120</td>\n",
       "    </tr>\n",
       "    <tr>\n",
       "      <th>9</th>\n",
       "      <td>\\nM1MScarborough(Cliffside / Cliffcrest / Scar...</td>\n",
       "      <td>\\nM2MNorth York(Willowdale / Newtonbrook)\\n\\n</td>\n",
       "      <td>M9MNorth York(Humberlea / Emery)</td>\n",
       "      <td>43.726420</td>\n",
       "      <td>-79.232970</td>\n",
       "    </tr>\n",
       "    <tr>\n",
       "      <th>10</th>\n",
       "      <td>\\nM1NScarborough(Birch Cliff / Cliffside West)...</td>\n",
       "      <td>\\nM2NNorth York(Willowdale)South\\n\\n</td>\n",
       "      <td>M9NYork(Weston)</td>\n",
       "      <td>43.694720</td>\n",
       "      <td>-79.264600</td>\n",
       "    </tr>\n",
       "    <tr>\n",
       "      <th>11</th>\n",
       "      <td>\\nM1PScarborough(Dorset Park / Wexford Heights...</td>\n",
       "      <td>\\nM2PNorth York(York Mills West)\\n\\n</td>\n",
       "      <td>M9PEtobicoke(Westmount)</td>\n",
       "      <td>43.735430</td>\n",
       "      <td>-79.297550</td>\n",
       "    </tr>\n",
       "    <tr>\n",
       "      <th>12</th>\n",
       "      <td>\\nM1RScarborough(Wexford / Maryvale)\\n\\n</td>\n",
       "      <td>\\nM2RNorth York(Willowdale)West\\n\\n</td>\n",
       "      <td>M9REtobicoke(Kingsview Village / St. Phillips ...</td>\n",
       "      <td>43.748600</td>\n",
       "      <td>-79.298020</td>\n",
       "    </tr>\n",
       "    <tr>\n",
       "      <th>13</th>\n",
       "      <td>\\nM1SScarborough(Agincourt) \\n\\n</td>\n",
       "      <td>\\nM2SNot assigned\\n\\n</td>\n",
       "      <td>M9SNot assigned</td>\n",
       "      <td>43.786260</td>\n",
       "      <td>-79.280840</td>\n",
       "    </tr>\n",
       "    <tr>\n",
       "      <th>14</th>\n",
       "      <td>\\nM1TScarborough(Clarks Corners / Tam O'Shante...</td>\n",
       "      <td>\\nM2TNot assigned\\n\\n</td>\n",
       "      <td>M9TNot assigned</td>\n",
       "      <td>43.786430</td>\n",
       "      <td>-79.301560</td>\n",
       "    </tr>\n",
       "  </tbody>\n",
       "</table>\n",
       "</div>"
      ],
      "text/plain": [
       "                                           Postalcode  \\\n",
       "0                               \\nM1ANot assigned\\n\\n   \n",
       "1               \\nM1BScarborough(Malvern / Rouge)\\n\\n   \n",
       "2   \\nM1CScarborough(Rouge Hill / Port Union / Hig...   \n",
       "3   \\nM1EScarborough(Guildwood / Morningside / Wes...   \n",
       "4                        \\nM1GScarborough(Woburn)\\n\\n   \n",
       "5                     \\nM1HScarborough(Cedarbrae)\\n\\n   \n",
       "6           \\nM1JScarborough(Scarborough Village)\\n\\n   \n",
       "7   \\nM1KScarborough(Kennedy Park / Ionview / East...   \n",
       "8   \\nM1LScarborough(Golden Mile / Clairlea / Oakr...   \n",
       "9   \\nM1MScarborough(Cliffside / Cliffcrest / Scar...   \n",
       "10  \\nM1NScarborough(Birch Cliff / Cliffside West)...   \n",
       "11  \\nM1PScarborough(Dorset Park / Wexford Heights...   \n",
       "12           \\nM1RScarborough(Wexford / Maryvale)\\n\\n   \n",
       "13                   \\nM1SScarborough(Agincourt) \\n\\n   \n",
       "14  \\nM1TScarborough(Clarks Corners / Tam O'Shante...   \n",
       "\n",
       "                                              Borough  \\\n",
       "0                               \\nM2ANot assigned\\n\\n   \n",
       "1                               \\nM2BNot assigned\\n\\n   \n",
       "2                               \\nM2CNot assigned\\n\\n   \n",
       "3                               \\nM2ENot assigned\\n\\n   \n",
       "4                               \\nM2GNot assigned\\n\\n   \n",
       "5              \\nM2HNorth York(Hillcrest Village)\\n\\n   \n",
       "6   \\nM2JNorth York(Fairview / Henry Farm / Oriole...   \n",
       "7                \\nM2KNorth York(Bayview Village)\\n\\n   \n",
       "8      \\nM2LNorth York(York Mills / Silver Hills)\\n\\n   \n",
       "9       \\nM2MNorth York(Willowdale / Newtonbrook)\\n\\n   \n",
       "10               \\nM2NNorth York(Willowdale)South\\n\\n   \n",
       "11               \\nM2PNorth York(York Mills West)\\n\\n   \n",
       "12                \\nM2RNorth York(Willowdale)West\\n\\n   \n",
       "13                              \\nM2SNot assigned\\n\\n   \n",
       "14                              \\nM2TNot assigned\\n\\n   \n",
       "\n",
       "                                         Neighborhood   Latitude  Longitude  \n",
       "0                      M9AEtobicoke(Islington Avenue)  43.648690 -79.385440  \n",
       "1   M9BEtobicoke(West Deane Park / Princess Garden...  43.810230 -79.220380  \n",
       "2   M9CEtobicoke(Eringate / Bloordale Gardens / Ol...  43.789480 -79.176140  \n",
       "3                                     M9ENot assigned  43.763430 -79.178200  \n",
       "4                                     M9GNot assigned  43.767480 -79.228290  \n",
       "5                                     M9HNot assigned  43.741672 -79.232538  \n",
       "6                                     M9JNot assigned  43.738650 -79.216990  \n",
       "7                                     M9KNot assigned  43.648690 -79.385440  \n",
       "8                        M9LNorth York(Humber Summit)  43.698830 -79.279120  \n",
       "9                    M9MNorth York(Humberlea / Emery)  43.726420 -79.232970  \n",
       "10                                    M9NYork(Weston)  43.694720 -79.264600  \n",
       "11                            M9PEtobicoke(Westmount)  43.735430 -79.297550  \n",
       "12  M9REtobicoke(Kingsview Village / St. Phillips ...  43.748600 -79.298020  \n",
       "13                                    M9SNot assigned  43.786260 -79.280840  \n",
       "14                                    M9TNot assigned  43.786430 -79.301560  "
      ]
     },
     "execution_count": 11,
     "metadata": {},
     "output_type": "execute_result"
    }
   ],
   "source": [
    "df.head(15)"
   ]
  },
  {
   "cell_type": "code",
   "execution_count": 12,
   "id": "d6926314",
   "metadata": {},
   "outputs": [],
   "source": [
    "df.to_csv('toronto_part2.csv',index=False)"
   ]
  },
  {
   "cell_type": "code",
   "execution_count": null,
   "id": "da93aac8",
   "metadata": {},
   "outputs": [],
   "source": []
  }
 ],
 "metadata": {
  "kernelspec": {
   "display_name": "Python 3",
   "language": "python",
   "name": "python3"
  },
  "language_info": {
   "codemirror_mode": {
    "name": "ipython",
    "version": 3
   },
   "file_extension": ".py",
   "mimetype": "text/x-python",
   "name": "python",
   "nbconvert_exporter": "python",
   "pygments_lexer": "ipython3",
   "version": "3.9.4"
  }
 },
 "nbformat": 4,
 "nbformat_minor": 5
}
